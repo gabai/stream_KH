{
 "cells": [
  {
   "cell_type": "markdown",
   "metadata": {},
   "source": [
    "Title: COVID-19 Epidemiological Disease Model Comparison (not the final tittle)\n",
    "\n",
    "Authors: Gabriel Anaya MD, MAS 1 and Sarah Mullin 1, Matthew Bonner MD, PhD 2, Brianne Mackenzie MD, Jinwei Hu MD, Arlen Brickman MD, Silvia Miramontes BA, Greg Wilding, John Tomaszewski MD, Peter L. Elkin MD, Melissa Resnick PhD1, Brianna Gibney, Natalie Tjota, Cynthia Alvarez, Peter Winkelstein MD \n",
    "\n",
    "The State University of New York at Buffalo, Department of Biomedical Informatics, Buffalo, NY, USA\n",
    "The State University of New York at Buffalo, Department of Epidemiology and Environmental Health, Buffalo, NY, USA\n",
    "The University of California at Berkeley, School of Information, Berkeley, CA, USA\n",
    "Kaleida Health\n",
    "Department of Veterans Affairs, WNY VA, Buffalo, NY\n",
    "Oakland University William Beaumont School of Medicine (OUWB) in Rochester, Michigan\n",
    "\n",
    "Corresponding author: Gabriel Anaya MD (ganaya@buffalo.edu) and Sarah Mullin (sarahmul@buffalo.edu)"
   ]
  },
  {
   "cell_type": "code",
   "execution_count": null,
   "metadata": {},
   "outputs": [],
   "source": []
  },
  {
   "cell_type": "code",
   "execution_count": null,
   "metadata": {},
   "outputs": [],
   "source": []
  },
  {
   "cell_type": "code",
   "execution_count": null,
   "metadata": {},
   "outputs": [],
   "source": []
  },
  {
   "cell_type": "code",
   "execution_count": null,
   "metadata": {},
   "outputs": [],
   "source": []
  },
  {
   "cell_type": "code",
   "execution_count": null,
   "metadata": {},
   "outputs": [],
   "source": []
  },
  {
   "cell_type": "markdown",
   "metadata": {},
   "source": []
  },
  {
   "cell_type": "markdown",
   "metadata": {},
   "source": [
    "# Background"
   ]
  },
  {
   "cell_type": "markdown",
   "metadata": {},
   "source": [
    "The first outbreak of a new coronavirus (Covid-19), caused by the severe acute respiratory syndrome coronavirus 2 (SARS-CoV-2), was seen in China in December 2019 (Ferguson et al., 2020; Shi, et al., 2020; Zhou et al., 2020). The first case appeared in the United States on January 20, 2020 (Holshue, et al., 2020). In the meantime, Covid-19 spread to many countries in Europe (ferguson, et al., 2020). On March 11, 2020 the Covid-19 epidemic was declared a pandemic by the World Health Organization (WHO) (https://www.who.int/dg/speeches/detail/who-director-general-s-opening-remarks-at-the-media-briefing-on-covid-19---11-march-2020). To stem the spread of Covid-19, Ferguson and colleagues (2020) note that many countries started to institute various interventions including case isolation, school and university closures, bans on mass gatherings and/or public events. In addition, epidemiologists began to apply models to the available data to determine the effects of these and other interventions on the spread of the disease. Some of these models will be discussed below."
   ]
  },
  {
   "cell_type": "code",
   "execution_count": null,
   "metadata": {},
   "outputs": [],
   "source": [
    "# General graph with global data"
   ]
  },
  {
   "cell_type": "markdown",
   "metadata": {},
   "source": [
    "Groups across the world and in the US have been working tirelessly to give close estimations of the COVID-19 pandemic. Most estimations present a drastic everywhere you look, the numbers paint a grim or an optimistic picture about the future. It all depends on the variables commonly called parameters and the endless possibility of combinations. \n",
    "\n",
    "In this paper we present our modified COVID-19 disease model for Western New York. We created a SEIR (Susceptible, Exposed, Infected, Recovered) epidemiological model with a step-wise R naught (R0) following estimated social distancing interventions."
   ]
  },
  {
   "cell_type": "code",
   "execution_count": null,
   "metadata": {},
   "outputs": [],
   "source": []
  },
  {
   "cell_type": "code",
   "execution_count": null,
   "metadata": {},
   "outputs": [],
   "source": []
  },
  {
   "cell_type": "code",
   "execution_count": null,
   "metadata": {},
   "outputs": [],
   "source": []
  },
  {
   "cell_type": "code",
   "execution_count": null,
   "metadata": {},
   "outputs": [],
   "source": []
  },
  {
   "cell_type": "code",
   "execution_count": null,
   "metadata": {},
   "outputs": [],
   "source": []
  },
  {
   "cell_type": "code",
   "execution_count": null,
   "metadata": {},
   "outputs": [],
   "source": []
  },
  {
   "cell_type": "code",
   "execution_count": null,
   "metadata": {},
   "outputs": [],
   "source": []
  },
  {
   "cell_type": "code",
   "execution_count": null,
   "metadata": {},
   "outputs": [],
   "source": []
  },
  {
   "cell_type": "code",
   "execution_count": null,
   "metadata": {},
   "outputs": [],
   "source": []
  },
  {
   "cell_type": "code",
   "execution_count": null,
   "metadata": {},
   "outputs": [],
   "source": []
  },
  {
   "cell_type": "code",
   "execution_count": null,
   "metadata": {},
   "outputs": [],
   "source": []
  },
  {
   "cell_type": "code",
   "execution_count": null,
   "metadata": {},
   "outputs": [],
   "source": []
  },
  {
   "cell_type": "code",
   "execution_count": null,
   "metadata": {},
   "outputs": [],
   "source": []
  },
  {
   "cell_type": "code",
   "execution_count": null,
   "metadata": {},
   "outputs": [],
   "source": []
  },
  {
   "cell_type": "code",
   "execution_count": null,
   "metadata": {},
   "outputs": [],
   "source": []
  },
  {
   "cell_type": "code",
   "execution_count": null,
   "metadata": {},
   "outputs": [],
   "source": []
  },
  {
   "cell_type": "code",
   "execution_count": null,
   "metadata": {},
   "outputs": [],
   "source": []
  },
  {
   "cell_type": "code",
   "execution_count": null,
   "metadata": {},
   "outputs": [],
   "source": []
  },
  {
   "cell_type": "code",
   "execution_count": null,
   "metadata": {},
   "outputs": [],
   "source": []
  },
  {
   "cell_type": "code",
   "execution_count": null,
   "metadata": {},
   "outputs": [],
   "source": []
  },
  {
   "cell_type": "code",
   "execution_count": null,
   "metadata": {},
   "outputs": [],
   "source": []
  },
  {
   "cell_type": "code",
   "execution_count": null,
   "metadata": {},
   "outputs": [],
   "source": []
  }
 ],
 "metadata": {
  "kernelspec": {
   "display_name": "Python 3",
   "language": "python",
   "name": "python3"
  },
  "language_info": {
   "codemirror_mode": {
    "name": "ipython",
    "version": 3
   },
   "file_extension": ".py",
   "mimetype": "text/x-python",
   "name": "python",
   "nbconvert_exporter": "python",
   "pygments_lexer": "ipython3",
   "version": "3.7.3"
  }
 },
 "nbformat": 4,
 "nbformat_minor": 2
}
